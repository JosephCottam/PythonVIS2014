{
 "metadata": {
  "name": "",
  "signature": "sha256:56fdfcc2e885f54e0e2901164c140850a965ae23f5b3d90049e095ae7c3245b2"
 },
 "nbformat": 3,
 "nbformat_minor": 0,
 "worksheets": [
  {
   "cells": [
    {
     "cell_type": "markdown",
     "metadata": {},
     "source": [
      "# Introduction to Bokeh\n",
      "\n",
      "## Model\n",
      "\n",
      "## Plotting.py\n",
      "\n",
      "## bokeh.charts\n",
      "\n",
      "## Server-side processing"
     ]
    },
    {
     "cell_type": "code",
     "collapsed": false,
     "input": [],
     "language": "python",
     "metadata": {},
     "outputs": []
    }
   ],
   "metadata": {}
  }
 ]
}