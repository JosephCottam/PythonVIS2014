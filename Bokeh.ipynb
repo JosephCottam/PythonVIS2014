{
 "metadata": {
  "name": "",
  "signature": "sha256:54bf0e0b43a0bf291a80da2cbb3bd589a176b356b1c2d85d887213e021191f80"
 },
 "nbformat": 3,
 "nbformat_minor": 0,
 "worksheets": [
  {
   "cells": [
    {
     "cell_type": "markdown",
     "metadata": {},
     "source": [
      "# Introduction to [Bokeh](http://bokeh.pydata.org/)\n",
      "\n",
      "Provide a first-class visualization library for web-aware applications, without\n",
      "requiring web-level programming.\n",
      "\n",
      "##We wrote JavaScript, so you don't have to.\n",
      "\n",
      "Write a visualization python. Bokeh creates data descripors and a scenegraph consumed by BokehJS.\n",
      "This works in ipython notebook, creating static files and interacting with dynamic data sources.\n",
      "\n",
      "Bokeh includes pre-built schemas in bokeh.charts, a low-level composition interface (similar to matplotlib),\n",
      "a server for large and/or dynamic datasources and widgets for providing client-side realtime interaction.\n",
      "\n",
      "The non-JS framework also has prototypes in other languages (Scala, Julia...maybe R).\n",
      "\n",
      "\n"
     ]
    },
    {
     "cell_type": "markdown",
     "metadata": {},
     "source": [
      "## bokeh.charts\n",
      "Common Schemas for common tasks (and parameters)."
     ]
    },
    {
     "cell_type": "code",
     "collapsed": false,
     "input": [],
     "language": "python",
     "metadata": {},
     "outputs": []
    },
    {
     "cell_type": "markdown",
     "metadata": {},
     "source": [
      "## Plotting.py\n",
      "Building plots, matplotlib style"
     ]
    },
    {
     "cell_type": "code",
     "collapsed": false,
     "input": [],
     "language": "python",
     "metadata": {},
     "outputs": []
    },
    {
     "cell_type": "markdown",
     "metadata": {},
     "source": [
      "## Bokeh Server\n",
      "Dynamic data & big data\n",
      "\n",
      "### Serving plots\n",
      "### Server-side data manimpulation"
     ]
    },
    {
     "cell_type": "code",
     "collapsed": false,
     "input": [],
     "language": "python",
     "metadata": {},
     "outputs": []
    },
    {
     "cell_type": "code",
     "collapsed": false,
     "input": [],
     "language": "python",
     "metadata": {},
     "outputs": []
    }
   ],
   "metadata": {}
  }
 ]
}