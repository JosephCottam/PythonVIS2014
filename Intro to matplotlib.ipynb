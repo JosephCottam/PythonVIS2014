{
 "metadata": {
  "name": "",
  "signature": "sha256:6784ba28d45798784f61a024cc429f718ae5e20a974eaedc4fa2b0b6989f8696"
 },
 "nbformat": 3,
 "nbformat_minor": 0,
 "worksheets": [
  {
   "cells": [
    {
     "cell_type": "markdown",
     "metadata": {},
     "source": [
      "#Intro to matplotlib"
     ]
    },
    {
     "cell_type": "code",
     "collapsed": false,
     "input": [
      "import numpy as np\n",
      "import pandas as pd"
     ],
     "language": "python",
     "metadata": {},
     "outputs": [],
     "prompt_number": 11
    },
    {
     "cell_type": "code",
     "collapsed": false,
     "input": [
      "import matplotlib.pyplot as plt\n",
      "%matplotlib inline   \n",
      "# The \"magic\" command is so the plots show up in output cells\n",
      "# pyplot is the plotting interface and is what is typically used.\n",
      "# Tradition dictates it be called plt (like numpy is np)"
     ],
     "language": "python",
     "metadata": {},
     "outputs": [],
     "prompt_number": 7
    },
    {
     "cell_type": "markdown",
     "metadata": {},
     "source": [
      "[User's Guide](http://matplotlib.org/users/index.html) -- [Example plots](http://matplotlib.org/gallery.html) -- [Official Tutorial](http://matplotlib.org/users/pyplot_tutorial.html)"
     ]
    },
    {
     "cell_type": "code",
     "collapsed": false,
     "input": [
      "[matplotlib colormaps](http://matplotlib.org/examples/color/colormaps_reference.html)"
     ],
     "language": "python",
     "metadata": {},
     "outputs": [
      {
       "ename": "SyntaxError",
       "evalue": "invalid syntax (<ipython-input-3-a4571c8e1715>, line 1)",
       "output_type": "pyerr",
       "traceback": [
        "\u001b[0;36m  File \u001b[0;32m\"<ipython-input-3-a4571c8e1715>\"\u001b[0;36m, line \u001b[0;32m1\u001b[0m\n\u001b[0;31m    [matplotlib colormaps](http://matplotlib.org/examples/color/colormaps_reference.html)\u001b[0m\n\u001b[0m                        ^\u001b[0m\n\u001b[0;31mSyntaxError\u001b[0m\u001b[0;31m:\u001b[0m invalid syntax\n"
       ]
      }
     ],
     "prompt_number": 3
    },
    {
     "cell_type": "code",
     "collapsed": false,
     "input": [],
     "language": "python",
     "metadata": {},
     "outputs": []
    }
   ],
   "metadata": {}
  }
 ]
}